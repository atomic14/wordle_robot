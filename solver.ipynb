{
 "cells": [
  {
   "cell_type": "code",
   "execution_count": 4,
   "metadata": {},
   "outputs": [],
   "source": [
    "import random\n",
    "from tqdm.notebook import tqdm\n",
    "\n",
    "from words import correct_words"
   ]
  },
  {
   "cell_type": "code",
   "execution_count": 5,
   "metadata": {},
   "outputs": [],
   "source": [
    "# check a word against another word and extract the matching letters\n",
    "# word - the word to check\n",
    "# other_word - the word to check against\n",
    "def check_word(word, other_word):\n",
    "    # get the list of letters that are not in the word\n",
    "    letters_not_in_word = {letter for letter in word if letter not in other_word}\n",
    "    # get the list of letters that are in the word\n",
    "    letters_in_word = {letter for letter in word if letter in other_word}\n",
    "    # get the list of letters that are in the word in the correct position\n",
    "    letters_correct_position = [\n",
    "        (letter_a, i)\n",
    "        for i, (letter_a, letter_b) in enumerate(zip(word, other_word))\n",
    "        if letter_a == letter_b\n",
    "    ]\n",
    "    # get the list of letters that are in the word in the incorrect position\n",
    "    letters_wrong_position = [\n",
    "        (letter_a, i)\n",
    "        for i, (letter_a, letter_b) in enumerate(zip(word, other_word))\n",
    "        if letter_a != letter_b and letter_a in letters_in_word\n",
    "    ]\n",
    "    return (\n",
    "        letters_correct_position,\n",
    "        letters_wrong_position,\n",
    "        letters_in_word,\n",
    "        letters_not_in_word,\n",
    "    )"
   ]
  },
  {
   "cell_type": "code",
   "execution_count": 6,
   "metadata": {},
   "outputs": [],
   "source": [
    "# Filter the list of words by the guess\n",
    "# words - the list of words to filter\n",
    "# letters_correct_position - a tuple with known letters and their positions\n",
    "# letters_wrong_position - a tuple with known letters in the incorrect positions\n",
    "# letters_in_word - a set of letters that we know are in the word\n",
    "# letters_not_in_word - a set of letters that we know are not in the word\n",
    "def filter_words(\n",
    "    words,\n",
    "    letters_correct_position,\n",
    "    letters_wrong_position,\n",
    "    letters_in_word,\n",
    "    letters_not_in_word,\n",
    "):\n",
    "    # all the letters in the letters_in_word should be in the word\n",
    "    words = [\n",
    "        word for word in words if all(letter in word for letter in letters_in_word)\n",
    "    ]\n",
    "    # none of the letters in letters_not_in_word shold be in the word\n",
    "    words = [\n",
    "        word\n",
    "        for word in words\n",
    "        if not any(letter in word for letter in letters_not_in_word)\n",
    "    ]\n",
    "    # filter out any words that are not possible due to letters_correct_position\n",
    "    words = [\n",
    "        word\n",
    "        for word in words\n",
    "        if all(\n",
    "            word[position] == letter for (letter, position) in letters_correct_position\n",
    "        )\n",
    "    ]\n",
    "    # filter out any words that are not possible due to letters_wrong_position\n",
    "    # e.g. the word should not have a letter in a position where we say the letter cannot be\n",
    "    words = [\n",
    "        word\n",
    "        for word in words\n",
    "        if all(\n",
    "            word[position] != letter for (letter, position) in letters_wrong_position\n",
    "        )\n",
    "    ]\n",
    "    return words"
   ]
  },
  {
   "cell_type": "code",
   "execution_count": 7,
   "metadata": {},
   "outputs": [],
   "source": [
    "# Score a word - the score is based on how good the word is at getting a 50/50 split\n",
    "# words - the list of words we're trying to split\n",
    "# word - the word to score\n",
    "def score_word(word, words):\n",
    "    # go through earch of the words assuming the word is the correct answer and see how good our candidate word is at getting a 50/50 split\n",
    "    score = 0\n",
    "    for candidate_word in random.sample(words, 100):\n",
    "        (\n",
    "            letters_correct_position,\n",
    "            letters_wrong_position,\n",
    "            letters_in_word,\n",
    "            letters_not_in_word,\n",
    "        ) = check_word(word, candidate_word)\n",
    "        matching_words = filter_words(\n",
    "            words,\n",
    "            letters_correct_position,\n",
    "            letters_wrong_position,\n",
    "            letters_in_word,\n",
    "            letters_not_in_word,\n",
    "        )\n",
    "        score += abs(0.5 - len(matching_words) / len(words))\n",
    "    return score"
   ]
  },
  {
   "cell_type": "code",
   "execution_count": 8,
   "metadata": {},
   "outputs": [],
   "source": [
    "def get_best_guess(words):\n",
    "    # the correct answer is in the list of words somewhere\n",
    "    possibly_correct_answers = random.sample(words, min(len(words), 100))\n",
    "    best_score = 1e9\n",
    "    best_guess = words[0]\n",
    "    for guess in random.sample(words, min(len(words), 100)):\n",
    "        count = 0\n",
    "        score = 1e9\n",
    "        for possibly_correct in possibly_correct_answers:\n",
    "            if guess != possibly_correct:\n",
    "                (\n",
    "                    letters_correct_position,\n",
    "                    letters_wrong_position,\n",
    "                    letters_in_word,\n",
    "                    letters_not_in_word,\n",
    "                ) = check_word(possibly_correct, guess)\n",
    "                filtered = filter_words(\n",
    "                    words,\n",
    "                    letters_correct_position,\n",
    "                    letters_wrong_position,\n",
    "                    letters_in_word,\n",
    "                    letters_not_in_word,\n",
    "                )\n",
    "                score += len(filtered)\n",
    "                count += 1\n",
    "        score /= count\n",
    "        if score < best_score:\n",
    "            best_score = score\n",
    "            best_guess = guess\n",
    "    return best_guess"
   ]
  },
  {
   "cell_type": "code",
   "execution_count": 9,
   "metadata": {},
   "outputs": [],
   "source": [
    "def guess(correct_answer, guess, words):\n",
    "    guesses = 0\n",
    "    while len(words) > 1:\n",
    "        guesses = guesses + 1\n",
    "        # get a random guess from the list of words\n",
    "        # check the guess against the correct answer\n",
    "        (\n",
    "            letters_correct_position,\n",
    "            letters_wrong_position,\n",
    "            letters_in_word,\n",
    "            letters_not_in_word,\n",
    "        ) = check_word(guess, correct_answer)\n",
    "        # filter the list of words\n",
    "        words = filter_words(\n",
    "            words,\n",
    "            letters_correct_position,\n",
    "            letters_wrong_position,\n",
    "            letters_in_word,\n",
    "            letters_not_in_word,\n",
    "        )\n",
    "        print(f\"After guessing {guess}, we have {len(words)} words left\")\n",
    "        if len(words) > 1:\n",
    "            guess = get_best_guess(words)\n",
    "    print(f\"Found {words[0]} after {guesses} guesses\")\n",
    "    return guesses"
   ]
  },
  {
   "cell_type": "code",
   "execution_count": 15,
   "metadata": {},
   "outputs": [
    {
     "name": "stdout",
     "output_type": "stream",
     "text": [
      "Looking for bleat\n",
      "After guessing raise, we have 69 words left\n",
      "After guessing hyena, we have 8 words left\n",
      "After guessing tweak, we have 3 words left\n",
      "After guessing bleat, we have 1 words left\n",
      "Found bleat after 4 guesses\n"
     ]
    },
    {
     "data": {
      "text/plain": [
       "4"
      ]
     },
     "execution_count": 15,
     "metadata": {},
     "output_type": "execute_result"
    }
   ],
   "source": [
    "correct_answer = correct_words[random.randint(0, len(correct_words) - 1)]\n",
    "print(\"Looking for\", correct_answer)\n",
    "\n",
    "guess(correct_answer, \"raise\", correct_words)"
   ]
  },
  {
   "cell_type": "code",
   "execution_count": null,
   "metadata": {},
   "outputs": [],
   "source": [
    "best_first_guess = None\n",
    "best_first_score = 1e9\n",
    "for word in tqdm(correct_words):\n",
    "    score = 0\n",
    "    count = 0\n",
    "    for candidate_word in correct_words:\n",
    "        if word != candidate_word:\n",
    "            (\n",
    "                letters_correct_position,\n",
    "                letters_wrong_position,\n",
    "                letters_in_word,\n",
    "                letters_not_in_word,\n",
    "            ) = check_word(word, candidate_word)\n",
    "            filtered = filter_words(\n",
    "                correct_words,\n",
    "                letters_correct_position,\n",
    "                letters_wrong_position,\n",
    "                letters_in_word,\n",
    "                letters_not_in_word,\n",
    "            )\n",
    "            score += len(filtered)\n",
    "            count += 1\n",
    "    score /= count\n",
    "    if score < best_first_score:\n",
    "        print(f\"Found {word} with score {score}\")\n",
    "        best_first_score = score\n",
    "        best_first_guess = word\n",
    "print(\"Best first guess is\", best_first_guess)"
   ]
  },
  {
   "cell_type": "code",
   "execution_count": null,
   "metadata": {},
   "outputs": [],
   "source": [
    "[word for word in correct_words if word.startswith(\"cau\")]"
   ]
  }
 ],
 "metadata": {
  "interpreter": {
   "hash": "4f8a41bf754a85ea9c7223b74e9b35ecd57a8e6a17d5eb623a7a5fcfc26c8f62"
  },
  "kernelspec": {
   "display_name": "Python 3.9.10 ('venv': venv)",
   "language": "python",
   "name": "python3"
  },
  "language_info": {
   "codemirror_mode": {
    "name": "ipython",
    "version": 3
   },
   "file_extension": ".py",
   "mimetype": "text/x-python",
   "name": "python",
   "nbconvert_exporter": "python",
   "pygments_lexer": "ipython3",
   "version": "3.9.2"
  }
 },
 "nbformat": 4,
 "nbformat_minor": 2
}
